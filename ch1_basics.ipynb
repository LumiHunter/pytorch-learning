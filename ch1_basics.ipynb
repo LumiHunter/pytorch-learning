{
 "cells": [
  {
   "cell_type": "markdown",
   "id": "dbce1105-ffa5-427b-9b86-07f0d1a9cb27",
   "metadata": {},
   "source": [
    "numpy-ndarray"
   ]
  },
  {
   "cell_type": "code",
   "execution_count": 1,
   "id": "ce3b8d93-298a-4c30-88c5-add478b05ebc",
   "metadata": {},
   "outputs": [
    {
     "name": "stdout",
     "output_type": "stream",
     "text": [
      "[[0 1 2 3 4]\n",
      " [5 6 7 8 9]]\n",
      "ndim:  2 shape:  (2, 5)\n"
     ]
    }
   ],
   "source": [
    "import numpy as np\n",
    "n_array = np.arange(10).reshape(2,5)\n",
    "print(n_array)\n",
    "print('ndim: ', n_array.ndim, 'shape: ', n_array.shape)"
   ]
  },
  {
   "cell_type": "markdown",
   "id": "ea83e76a-9ece-4769-9997-a8f637adb013",
   "metadata": {},
   "source": [
    "pytorch-tensor"
   ]
  },
  {
   "cell_type": "code",
   "execution_count": 2,
   "id": "9af32929-94ec-43b5-8840-50db16d6c468",
   "metadata": {},
   "outputs": [
    {
     "name": "stdout",
     "output_type": "stream",
     "text": [
      "tensor([[0., 1., 2., 3., 4.],\n",
      "        [5., 6., 7., 8., 9.]])\n",
      "ndim:  2 shape:  torch.Size([2, 5])\n"
     ]
    }
   ],
   "source": [
    "import torch\n",
    "t_array = torch.FloatTensor(n_array)    # array to tensor\n",
    "print(t_array)\n",
    "print('ndim: ', t_array.ndim, 'shape: ', t_array.shape)"
   ]
  },
  {
   "cell_type": "markdown",
   "id": "97b6a1ed-580a-41e2-b9d1-63f830c6621d",
   "metadata": {},
   "source": [
    "numpy like operations"
   ]
  },
  {
   "cell_type": "code",
   "execution_count": 4,
   "id": "6fd47dfa-6fb8-46ee-a812-21c527d526c8",
   "metadata": {},
   "outputs": [],
   "source": [
    "data = [[3,5,20],[10,5,50],[1,5,10]]\n",
    "x_data = torch.tensor(data)"
   ]
  },
  {
   "cell_type": "code",
   "execution_count": 6,
   "id": "639f4163-d7ae-475d-9ca1-7605c03df1c4",
   "metadata": {},
   "outputs": [
    {
     "data": {
      "text/plain": [
       "tensor([[ 3,  5, 20],\n",
       "        [10,  5, 50],\n",
       "        [ 1,  5, 10]])"
      ]
     },
     "execution_count": 6,
     "metadata": {},
     "output_type": "execute_result"
    }
   ],
   "source": [
    "x_data"
   ]
  },
  {
   "cell_type": "code",
   "execution_count": 5,
   "id": "1fedbbdc-37ff-481d-a497-eea8d2418a3a",
   "metadata": {},
   "outputs": [
    {
     "data": {
      "text/plain": [
       "tensor([[10,  5, 50],\n",
       "        [ 1,  5, 10]])"
      ]
     },
     "execution_count": 5,
     "metadata": {},
     "output_type": "execute_result"
    }
   ],
   "source": [
    "x_data[1:]    # slicing"
   ]
  },
  {
   "cell_type": "code",
   "execution_count": 7,
   "id": "57d235df-a806-42f7-b086-b21ed0ae6073",
   "metadata": {},
   "outputs": [
    {
     "data": {
      "text/plain": [
       "tensor([[ 5, 20],\n",
       "        [ 5, 50]])"
      ]
     },
     "execution_count": 7,
     "metadata": {},
     "output_type": "execute_result"
    }
   ],
   "source": [
    "x_data[:2, 1:]"
   ]
  },
  {
   "cell_type": "code",
   "execution_count": 8,
   "id": "31c031b2-b3e8-41c5-8aee-2cbf56bf5505",
   "metadata": {},
   "outputs": [
    {
     "data": {
      "text/plain": [
       "tensor([ 3,  5, 20, 10,  5, 50,  1,  5, 10])"
      ]
     },
     "execution_count": 8,
     "metadata": {},
     "output_type": "execute_result"
    }
   ],
   "source": [
    "x_data.flatten()"
   ]
  },
  {
   "cell_type": "code",
   "execution_count": 9,
   "id": "34291333-616a-422e-8c76-82a3e862ae28",
   "metadata": {},
   "outputs": [
    {
     "data": {
      "text/plain": [
       "tensor([[1, 1, 1],\n",
       "        [1, 1, 1],\n",
       "        [1, 1, 1]])"
      ]
     },
     "execution_count": 9,
     "metadata": {},
     "output_type": "execute_result"
    }
   ],
   "source": [
    "torch.ones_like(x_data)"
   ]
  },
  {
   "cell_type": "code",
   "execution_count": 10,
   "id": "ab77cd86-0e53-456a-9310-da6aee1c2306",
   "metadata": {},
   "outputs": [
    {
     "data": {
      "text/plain": [
       "array([[ 3,  5, 20],\n",
       "       [10,  5, 50],\n",
       "       [ 1,  5, 10]], dtype=int64)"
      ]
     },
     "execution_count": 10,
     "metadata": {},
     "output_type": "execute_result"
    }
   ],
   "source": [
    "x_data.numpy()"
   ]
  },
  {
   "cell_type": "code",
   "execution_count": 11,
   "id": "cecfff0f-251f-41e4-ba0a-cbe70f9f9c45",
   "metadata": {},
   "outputs": [
    {
     "data": {
      "text/plain": [
       "torch.Size([3, 3])"
      ]
     },
     "execution_count": 11,
     "metadata": {},
     "output_type": "execute_result"
    }
   ],
   "source": [
    "x_data.shape"
   ]
  },
  {
   "cell_type": "code",
   "execution_count": 12,
   "id": "b320b021-9b19-4eb1-b415-7a688a5aa43b",
   "metadata": {},
   "outputs": [
    {
     "data": {
      "text/plain": [
       "torch.int64"
      ]
     },
     "execution_count": 12,
     "metadata": {},
     "output_type": "execute_result"
    }
   ],
   "source": [
    "x_data.dtype"
   ]
  },
  {
   "cell_type": "code",
   "execution_count": 13,
   "id": "85dd4892-073d-4963-8663-7bb4dbe9a951",
   "metadata": {},
   "outputs": [
    {
     "data": {
      "text/plain": [
       "device(type='cpu')"
      ]
     },
     "execution_count": 13,
     "metadata": {},
     "output_type": "execute_result"
    }
   ],
   "source": [
    "x_data.device    "
   ]
  },
  {
   "cell_type": "code",
   "execution_count": 19,
   "id": "3a15b960-136c-4539-9ee3-ab0281418f1c",
   "metadata": {},
   "outputs": [
    {
     "data": {
      "text/plain": [
       "device(type='cpu')"
      ]
     },
     "execution_count": 19,
     "metadata": {},
     "output_type": "execute_result"
    }
   ],
   "source": [
    "if torch.cuda.is_available():    # pytorch의 tensor는 GPU에 올려 사용 가능\n",
    "    x_data = x_data.to('cuda')\n",
    "x_data.device"
   ]
  },
  {
   "cell_type": "markdown",
   "id": "4699209b-baea-41d0-887a-985fa80c8998",
   "metadata": {},
   "source": [
    "- view: reshape과 동일하게 tensor의 shape를 변환\n",
    "- squeeze: 차원의 개수가 1인 차원을 삭제(압축)\n",
    "- unsqueeze: 차원의 개수가 1인 차원을 추가"
   ]
  },
  {
   "cell_type": "code",
   "execution_count": 21,
   "id": "4b652433-7a8f-4934-ad0f-4b4e4daa9312",
   "metadata": {},
   "outputs": [
    {
     "data": {
      "text/plain": [
       "tensor([[[0.4189, 0.2398],\n",
       "         [0.8404, 0.5741],\n",
       "         [0.5482, 0.9049]],\n",
       "\n",
       "        [[0.9135, 0.0830],\n",
       "         [0.9941, 0.5273],\n",
       "         [0.2961, 0.5993]]])"
      ]
     },
     "execution_count": 21,
     "metadata": {},
     "output_type": "execute_result"
    }
   ],
   "source": [
    "tensor_ex = torch.rand(size=(2,3,2))    # 2*3*2=12\n",
    "tensor_ex"
   ]
  },
  {
   "cell_type": "code",
   "execution_count": 22,
   "id": "186a079f-3c29-4b15-9771-6fb4a2d00bc6",
   "metadata": {},
   "outputs": [
    {
     "data": {
      "text/plain": [
       "tensor([[0.4189, 0.2398, 0.8404, 0.5741, 0.5482, 0.9049],\n",
       "        [0.9135, 0.0830, 0.9941, 0.5273, 0.2961, 0.5993]])"
      ]
     },
     "execution_count": 22,
     "metadata": {},
     "output_type": "execute_result"
    }
   ],
   "source": [
    "tensor_ex.view([-1,6])     # 2*6=12"
   ]
  },
  {
   "cell_type": "code",
   "execution_count": 24,
   "id": "263645a9-7ac3-4056-aea2-05810084c2eb",
   "metadata": {},
   "outputs": [
    {
     "data": {
      "text/plain": [
       "tensor([[0.4189, 0.2398, 0.8404, 0.5741, 0.5482, 0.9049],\n",
       "        [0.9135, 0.0830, 0.9941, 0.5273, 0.2961, 0.5993]])"
      ]
     },
     "execution_count": 24,
     "metadata": {},
     "output_type": "execute_result"
    }
   ],
   "source": [
    "tensor_ex.reshape([-1,6])"
   ]
  },
  {
   "cell_type": "code",
   "execution_count": 41,
   "id": "b9175d80-e718-4ccd-85d9-71cba5933dbd",
   "metadata": {},
   "outputs": [],
   "source": [
    "# view와 reshape의 차이가 엄밀히 존재하긴 하지만, 대부분의 경우 view를 쓰면 문제없다.\n",
    "a = torch.zeros(3,2)\n",
    "b = a.view(2,3)\n",
    "c = a.t().reshape(6)"
   ]
  },
  {
   "cell_type": "code",
   "execution_count": 42,
   "id": "31934a9a-30e4-4815-9146-9b7d46241438",
   "metadata": {},
   "outputs": [
    {
     "data": {
      "text/plain": [
       "tensor([[0., 0.],\n",
       "        [0., 0.],\n",
       "        [0., 0.]])"
      ]
     },
     "execution_count": 42,
     "metadata": {},
     "output_type": "execute_result"
    }
   ],
   "source": [
    "a"
   ]
  },
  {
   "cell_type": "code",
   "execution_count": 43,
   "id": "4db358ff-b8f4-4ee6-8734-694926cd7863",
   "metadata": {},
   "outputs": [
    {
     "data": {
      "text/plain": [
       "tensor([[0., 0., 0.],\n",
       "        [0., 0., 0.]])"
      ]
     },
     "execution_count": 43,
     "metadata": {},
     "output_type": "execute_result"
    }
   ],
   "source": [
    "b"
   ]
  },
  {
   "cell_type": "code",
   "execution_count": 44,
   "id": "7c989440-1274-4659-a9db-778725aa98f0",
   "metadata": {},
   "outputs": [
    {
     "data": {
      "text/plain": [
       "tensor([0., 0., 0., 0., 0., 0.])"
      ]
     },
     "execution_count": 44,
     "metadata": {},
     "output_type": "execute_result"
    }
   ],
   "source": [
    "c"
   ]
  },
  {
   "cell_type": "code",
   "execution_count": 45,
   "id": "b4309a52-6a57-4aae-9227-7bce1bb35279",
   "metadata": {},
   "outputs": [
    {
     "data": {
      "text/plain": [
       "tensor([[1., 1.],\n",
       "        [1., 1.],\n",
       "        [1., 1.]])"
      ]
     },
     "execution_count": 45,
     "metadata": {},
     "output_type": "execute_result"
    }
   ],
   "source": [
    "a.fill_(1)\n",
    "a"
   ]
  },
  {
   "cell_type": "code",
   "execution_count": 46,
   "id": "3f7b4a02-d850-4392-9879-881ebef8bd6e",
   "metadata": {},
   "outputs": [
    {
     "data": {
      "text/plain": [
       "tensor([[1., 1., 1.],\n",
       "        [1., 1., 1.]])"
      ]
     },
     "execution_count": 46,
     "metadata": {},
     "output_type": "execute_result"
    }
   ],
   "source": [
    "b"
   ]
  },
  {
   "cell_type": "code",
   "execution_count": 47,
   "id": "a2b3a9ca-9df7-4f3b-a819-3f06d5124280",
   "metadata": {},
   "outputs": [
    {
     "data": {
      "text/plain": [
       "tensor([0., 0., 0., 0., 0., 0.])"
      ]
     },
     "execution_count": 47,
     "metadata": {},
     "output_type": "execute_result"
    }
   ],
   "source": [
    "c"
   ]
  },
  {
   "cell_type": "code",
   "execution_count": null,
   "id": "7015b624-5a53-44c8-8893-6256783ab622",
   "metadata": {},
   "outputs": [],
   "source": []
  },
  {
   "cell_type": "code",
   "execution_count": 14,
   "id": "1f321bea-a156-48f1-8abf-f8d938842b69",
   "metadata": {},
   "outputs": [
    {
     "data": {
      "text/plain": [
       "tensor([[[0.8496, 0.1673],\n",
       "         [0.0734, 0.1979]]])"
      ]
     },
     "execution_count": 14,
     "metadata": {},
     "output_type": "execute_result"
    }
   ],
   "source": [
    "tensor_ex1 = torch.rand(size=(1,2,2))\n",
    "tensor_ex1"
   ]
  },
  {
   "cell_type": "code",
   "execution_count": 18,
   "id": "5922e1c4-76a3-47e7-81c9-4b956ecb45b3",
   "metadata": {},
   "outputs": [
    {
     "data": {
      "text/plain": [
       "tensor([[0.8496, 0.1673],\n",
       "        [0.0734, 0.1979]])"
      ]
     },
     "execution_count": 18,
     "metadata": {},
     "output_type": "execute_result"
    }
   ],
   "source": [
    "tensor_ex1_sq = tensor_ex1.squeeze()\n",
    "tensor_ex1_sq    # squeeze()는 차원의 갯수가 1인 차원을 삭제한 텐서를 반환"
   ]
  },
  {
   "cell_type": "code",
   "execution_count": 19,
   "id": "be2ad01b-7a3f-42c7-aa07-53aac58d3b4f",
   "metadata": {},
   "outputs": [
    {
     "data": {
      "text/plain": [
       "torch.Size([2, 2])"
      ]
     },
     "execution_count": 19,
     "metadata": {},
     "output_type": "execute_result"
    }
   ],
   "source": [
    "tensor_ex1_sq.size()"
   ]
  },
  {
   "cell_type": "code",
   "execution_count": 11,
   "id": "2c4619f4-57a2-40d1-a4cd-1ea08bb4feef",
   "metadata": {},
   "outputs": [
    {
     "data": {
      "text/plain": [
       "tensor([[[0.2352, 0.6890]],\n",
       "\n",
       "        [[0.9145, 0.3719]]])"
      ]
     },
     "execution_count": 11,
     "metadata": {},
     "output_type": "execute_result"
    }
   ],
   "source": [
    "tensor_ex2 = torch.rand(size=(2,1,2))\n",
    "tensor_ex2"
   ]
  },
  {
   "cell_type": "code",
   "execution_count": 20,
   "id": "b9694490-d1ba-4e14-bd27-839acb2f83f0",
   "metadata": {},
   "outputs": [
    {
     "data": {
      "text/plain": [
       "tensor([[0.2352, 0.6890],\n",
       "        [0.9145, 0.3719]])"
      ]
     },
     "execution_count": 20,
     "metadata": {},
     "output_type": "execute_result"
    }
   ],
   "source": [
    "tensor_ex2.squeeze_()    # squeeze_()는 차원의 갯수가 1인 차원을 삭제"
   ]
  },
  {
   "cell_type": "code",
   "execution_count": 22,
   "id": "c22c91e0-3913-4fdb-8b5d-7beda33e8b72",
   "metadata": {},
   "outputs": [
    {
     "data": {
      "text/plain": [
       "torch.Size([2, 2])"
      ]
     },
     "execution_count": 22,
     "metadata": {},
     "output_type": "execute_result"
    }
   ],
   "source": [
    "tensor_ex2.size()"
   ]
  },
  {
   "cell_type": "code",
   "execution_count": 23,
   "id": "f16e282a-fec5-4715-8f6b-1e458417e67c",
   "metadata": {},
   "outputs": [
    {
     "data": {
      "text/plain": [
       "tensor([[[0.3870],\n",
       "         [0.5295]],\n",
       "\n",
       "        [[0.2297],\n",
       "         [0.9115]]])"
      ]
     },
     "execution_count": 23,
     "metadata": {},
     "output_type": "execute_result"
    }
   ],
   "source": [
    "tensor_ex3 = torch.rand(size=(2,2,1))\n",
    "tensor_ex3"
   ]
  },
  {
   "cell_type": "code",
   "execution_count": 24,
   "id": "4f7a7623-88c4-4513-bbe9-ff38c898a2a3",
   "metadata": {},
   "outputs": [
    {
     "data": {
      "text/plain": [
       "torch.Size([2, 2])"
      ]
     },
     "execution_count": 24,
     "metadata": {},
     "output_type": "execute_result"
    }
   ],
   "source": [
    "tensor_ex3.squeeze().size()"
   ]
  },
  {
   "cell_type": "code",
   "execution_count": null,
   "id": "f4f2ff8b-e101-4027-b0e9-d6ecd5dfa671",
   "metadata": {},
   "outputs": [],
   "source": []
  },
  {
   "cell_type": "code",
   "execution_count": 27,
   "id": "f5186930-6fb6-467d-96f3-ef2cb7f2b799",
   "metadata": {},
   "outputs": [
    {
     "data": {
      "text/plain": [
       "tensor([[0.4804, 0.8486],\n",
       "        [0.6089, 0.3153]])"
      ]
     },
     "execution_count": 27,
     "metadata": {},
     "output_type": "execute_result"
    }
   ],
   "source": [
    "tensor_ex = torch.rand(size=(2,2))\n",
    "tensor_ex"
   ]
  },
  {
   "cell_type": "code",
   "execution_count": 28,
   "id": "ba3e7b0a-e5eb-4464-a436-1341ce331f04",
   "metadata": {},
   "outputs": [
    {
     "data": {
      "text/plain": [
       "tensor([[[0.4804, 0.8486],\n",
       "         [0.6089, 0.3153]]])"
      ]
     },
     "execution_count": 28,
     "metadata": {},
     "output_type": "execute_result"
    }
   ],
   "source": [
    "tensor_ex.unsqueeze(0)"
   ]
  },
  {
   "cell_type": "code",
   "execution_count": 30,
   "id": "adfe51b7-f965-487b-bbee-ab14a2dc4978",
   "metadata": {},
   "outputs": [
    {
     "data": {
      "text/plain": [
       "torch.Size([1, 2, 2])"
      ]
     },
     "execution_count": 30,
     "metadata": {},
     "output_type": "execute_result"
    }
   ],
   "source": [
    "tensor_ex.unsqueeze(0).size()"
   ]
  },
  {
   "cell_type": "code",
   "execution_count": 31,
   "id": "b799cd57-536a-4b33-875f-ebd62bdb4713",
   "metadata": {},
   "outputs": [
    {
     "data": {
      "text/plain": [
       "torch.Size([2, 1, 2])"
      ]
     },
     "execution_count": 31,
     "metadata": {},
     "output_type": "execute_result"
    }
   ],
   "source": [
    "tensor_ex.unsqueeze(1).shape"
   ]
  },
  {
   "cell_type": "code",
   "execution_count": 32,
   "id": "eb03b241-4ce1-4ecd-af92-4ed68d5db954",
   "metadata": {},
   "outputs": [
    {
     "data": {
      "text/plain": [
       "torch.Size([2, 2, 1])"
      ]
     },
     "execution_count": 32,
     "metadata": {},
     "output_type": "execute_result"
    }
   ],
   "source": [
    "tensor_ex.unsqueeze(2).shape"
   ]
  },
  {
   "cell_type": "code",
   "execution_count": 33,
   "id": "a7162ef2-3f42-423c-bea5-0836acc49b19",
   "metadata": {},
   "outputs": [
    {
     "data": {
      "text/plain": [
       "tensor([[[[0.1027, 0.0990, 0.9774, 0.7732],\n",
       "          [0.3812, 0.1678, 0.2719, 0.0853],\n",
       "          [0.1931, 0.0137, 0.0478, 0.8099]],\n",
       "\n",
       "         [[0.1289, 0.5693, 0.4581, 0.1762],\n",
       "          [0.7796, 0.8426, 0.9546, 0.3393],\n",
       "          [0.1778, 0.5082, 0.3323, 0.5022]]]])"
      ]
     },
     "execution_count": 33,
     "metadata": {},
     "output_type": "execute_result"
    }
   ],
   "source": [
    "tensor_ex4 = torch.rand(size=(1,2,3,4))\n",
    "tensor_ex4"
   ]
  },
  {
   "cell_type": "code",
   "execution_count": 34,
   "id": "77808b75-29b9-46f8-a7e3-a85f21460edb",
   "metadata": {},
   "outputs": [
    {
     "data": {
      "text/plain": [
       "tensor([[[0.1027, 0.0990, 0.9774, 0.7732],\n",
       "         [0.3812, 0.1678, 0.2719, 0.0853],\n",
       "         [0.1931, 0.0137, 0.0478, 0.8099]],\n",
       "\n",
       "        [[0.1289, 0.5693, 0.4581, 0.1762],\n",
       "         [0.7796, 0.8426, 0.9546, 0.3393],\n",
       "         [0.1778, 0.5082, 0.3323, 0.5022]]])"
      ]
     },
     "execution_count": 34,
     "metadata": {},
     "output_type": "execute_result"
    }
   ],
   "source": [
    "tensor_ex4.squeeze_()"
   ]
  },
  {
   "cell_type": "markdown",
   "id": "fdc48a8d-ee69-4215-931e-3f09757e78df",
   "metadata": {},
   "source": [
    "행렬곱셈 연산은 dot이 아닌 mm(matmul) 함수 사용!    \n",
    "dot은 벡터 연산용"
   ]
  },
  {
   "cell_type": "code",
   "execution_count": 43,
   "id": "478a9138-6f4f-4e95-8cdd-d2d4755a5b63",
   "metadata": {},
   "outputs": [],
   "source": [
    "n1 = np.arange(10).reshape(2,5)\n",
    "n2 = np.arange(10).reshape(5,2)"
   ]
  },
  {
   "cell_type": "code",
   "execution_count": 44,
   "id": "7b4019c3-62e2-49bc-ba9a-67d0bb59c087",
   "metadata": {},
   "outputs": [
    {
     "data": {
      "text/plain": [
       "tensor([[0., 1., 2., 3., 4.],\n",
       "        [5., 6., 7., 8., 9.]])"
      ]
     },
     "execution_count": 44,
     "metadata": {},
     "output_type": "execute_result"
    }
   ],
   "source": [
    "t1 = torch.FloatTensor(n1)\n",
    "t1"
   ]
  },
  {
   "cell_type": "code",
   "execution_count": 45,
   "id": "9e6b8ca7-ab0f-4820-8397-155c5e97c02e",
   "metadata": {},
   "outputs": [
    {
     "data": {
      "text/plain": [
       "tensor([[0., 1.],\n",
       "        [2., 3.],\n",
       "        [4., 5.],\n",
       "        [6., 7.],\n",
       "        [8., 9.]])"
      ]
     },
     "execution_count": 45,
     "metadata": {},
     "output_type": "execute_result"
    }
   ],
   "source": [
    "t2 = torch.FloatTensor(n2)\n",
    "t2"
   ]
  },
  {
   "cell_type": "code",
   "execution_count": 46,
   "id": "a4c5dbb0-cb88-4177-abc0-1c4842469f04",
   "metadata": {},
   "outputs": [
    {
     "data": {
      "text/plain": [
       "tensor([[ 60.,  70.],\n",
       "        [160., 195.]])"
      ]
     },
     "execution_count": 46,
     "metadata": {},
     "output_type": "execute_result"
    }
   ],
   "source": [
    "t1.mm(t2)"
   ]
  },
  {
   "cell_type": "code",
   "execution_count": 47,
   "id": "9c036746-89e2-40c7-afa3-25cc56bfa0f4",
   "metadata": {},
   "outputs": [
    {
     "ename": "RuntimeError",
     "evalue": "1D tensors expected, but got 2D and 2D tensors",
     "output_type": "error",
     "traceback": [
      "\u001b[1;31m---------------------------------------------------------------------------\u001b[0m",
      "\u001b[1;31mRuntimeError\u001b[0m                              Traceback (most recent call last)",
      "Cell \u001b[1;32mIn[47], line 1\u001b[0m\n\u001b[1;32m----> 1\u001b[0m \u001b[43mt1\u001b[49m\u001b[38;5;241;43m.\u001b[39;49m\u001b[43mdot\u001b[49m\u001b[43m(\u001b[49m\u001b[43mt2\u001b[49m\u001b[43m)\u001b[49m\n",
      "\u001b[1;31mRuntimeError\u001b[0m: 1D tensors expected, but got 2D and 2D tensors"
     ]
    }
   ],
   "source": [
    "t1.dot(t2)"
   ]
  },
  {
   "cell_type": "code",
   "execution_count": 48,
   "id": "bf931b17-3d3d-409f-bba6-30b8209f5e1d",
   "metadata": {},
   "outputs": [
    {
     "data": {
      "text/plain": [
       "tensor([[ 60.,  70.],\n",
       "        [160., 195.]])"
      ]
     },
     "execution_count": 48,
     "metadata": {},
     "output_type": "execute_result"
    }
   ],
   "source": [
    "t1.matmul(t2)"
   ]
  },
  {
   "cell_type": "markdown",
   "id": "a1cd0317-8228-4679-8e12-ba454812d3e9",
   "metadata": {},
   "source": [
    "mm은 broadcasting을 지원하지 않고, matmul은 broadcasting을 지원한다는 차이"
   ]
  },
  {
   "cell_type": "code",
   "execution_count": 49,
   "id": "51c1011d-1350-460b-b5a3-8bb40d711856",
   "metadata": {},
   "outputs": [
    {
     "ename": "RuntimeError",
     "evalue": "self must be a matrix",
     "output_type": "error",
     "traceback": [
      "\u001b[1;31m---------------------------------------------------------------------------\u001b[0m",
      "\u001b[1;31mRuntimeError\u001b[0m                              Traceback (most recent call last)",
      "Cell \u001b[1;32mIn[49], line 3\u001b[0m\n\u001b[0;32m      1\u001b[0m a \u001b[38;5;241m=\u001b[39m torch\u001b[38;5;241m.\u001b[39mrand(\u001b[38;5;241m5\u001b[39m,\u001b[38;5;241m2\u001b[39m,\u001b[38;5;241m3\u001b[39m)\n\u001b[0;32m      2\u001b[0m b \u001b[38;5;241m=\u001b[39m torch\u001b[38;5;241m.\u001b[39mrand(\u001b[38;5;241m3\u001b[39m)\n\u001b[1;32m----> 3\u001b[0m \u001b[43ma\u001b[49m\u001b[38;5;241;43m.\u001b[39;49m\u001b[43mmm\u001b[49m\u001b[43m(\u001b[49m\u001b[43mb\u001b[49m\u001b[43m)\u001b[49m\n",
      "\u001b[1;31mRuntimeError\u001b[0m: self must be a matrix"
     ]
    }
   ],
   "source": [
    "a = torch.rand(5,2,3)\n",
    "b = torch.rand(3)\n",
    "a.mm(b)"
   ]
  },
  {
   "cell_type": "code",
   "execution_count": 50,
   "id": "29fcc949-a9aa-4c68-a238-f0f1085570d2",
   "metadata": {},
   "outputs": [
    {
     "data": {
      "text/plain": [
       "tensor([[0.4257, 0.5425],\n",
       "        [0.8093, 0.9252],\n",
       "        [1.0978, 0.7917],\n",
       "        [1.2068, 1.2484],\n",
       "        [1.3038, 0.1957]])"
      ]
     },
     "execution_count": 50,
     "metadata": {},
     "output_type": "execute_result"
    }
   ],
   "source": [
    "a.matmul(b)"
   ]
  },
  {
   "cell_type": "code",
   "execution_count": null,
   "id": "7159129c-57d7-407f-9fbe-f69e35b9568a",
   "metadata": {},
   "outputs": [],
   "source": []
  }
 ],
 "metadata": {
  "kernelspec": {
   "display_name": "Python 3 (ipykernel)",
   "language": "python",
   "name": "python3"
  },
  "language_info": {
   "codemirror_mode": {
    "name": "ipython",
    "version": 3
   },
   "file_extension": ".py",
   "mimetype": "text/x-python",
   "name": "python",
   "nbconvert_exporter": "python",
   "pygments_lexer": "ipython3",
   "version": "3.9.18"
  }
 },
 "nbformat": 4,
 "nbformat_minor": 5
}
