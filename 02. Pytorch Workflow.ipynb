{
 "cells": [
  {
   "cell_type": "markdown",
   "id": "40a25831",
   "metadata": {},
   "source": [
    "1. data (prepare and load)\n",
    "2. build model\n",
    "3. fitting the model to data (training)\n",
    "4. making predictions\n",
    "5. saving and loading a model\n",
    "6. putting it all together"
   ]
  },
  {
   "cell_type": "code",
   "execution_count": 1,
   "id": "724c010a",
   "metadata": {},
   "outputs": [
    {
     "data": {
      "text/plain": [
       "'2.0.1+cu118'"
      ]
     },
     "execution_count": 1,
     "metadata": {},
     "output_type": "execute_result"
    }
   ],
   "source": [
    "import torch\n",
    "from torch import nn    # nn contains all of Pytorch's building blocks \n",
    "import matplotlib.pyplot as plt\n",
    "torch.__version__"
   ]
  },
  {
   "cell_type": "markdown",
   "id": "7cd96cf3",
   "metadata": {},
   "source": [
    "## 1. Data preparing and loading\n",
    "Data can be almost anything in machine learning.\n",
    "* Excel speadsheet\n",
    "* Images of any kind\n",
    "* Videos\n",
    "* Audio\n",
    "* DNA\n",
    "* Text\n",
    "\n",
    "Machine learning is a game of two parts:    \n",
    "1. Get data into a numerical representation.\n",
    "2. Build a model to learn patterns in that numerical representatioin.\n",
    "\n",
    "To showcase this, let's create some known data using the linear regression formula.   \n",
    "We'll use a linear regression formula to make a straight line with known parameters"
   ]
  },
  {
   "cell_type": "code",
   "execution_count": 2,
   "id": "138fc64d",
   "metadata": {},
   "outputs": [],
   "source": [
    "weight = 0.7\n",
    "bias = 0.3\n",
    "\n",
    "start = 0\n",
    "end = 1\n",
    "step = 0.02\n",
    "X = torch.arange(start, end, step).unsqueeze(dim=1)\n",
    "y = weight * X + bias"
   ]
  },
  {
   "cell_type": "code",
   "execution_count": 3,
   "id": "f039f93b",
   "metadata": {},
   "outputs": [
    {
     "data": {
      "text/plain": [
       "(tensor([[0.0000],\n",
       "         [0.0200],\n",
       "         [0.0400],\n",
       "         [0.0600],\n",
       "         [0.0800],\n",
       "         [0.1000],\n",
       "         [0.1200],\n",
       "         [0.1400],\n",
       "         [0.1600],\n",
       "         [0.1800]]),\n",
       " tensor([[0.3000],\n",
       "         [0.3140],\n",
       "         [0.3280],\n",
       "         [0.3420],\n",
       "         [0.3560],\n",
       "         [0.3700],\n",
       "         [0.3840],\n",
       "         [0.3980],\n",
       "         [0.4120],\n",
       "         [0.4260]]))"
      ]
     },
     "execution_count": 3,
     "metadata": {},
     "output_type": "execute_result"
    }
   ],
   "source": [
    "X[:10], y[:10]"
   ]
  },
  {
   "cell_type": "code",
   "execution_count": 4,
   "id": "7ec3ae53",
   "metadata": {},
   "outputs": [
    {
     "data": {
      "text/plain": [
       "(50, 50)"
      ]
     },
     "execution_count": 4,
     "metadata": {},
     "output_type": "execute_result"
    }
   ],
   "source": [
    "len(X), len(y)"
   ]
  },
  {
   "cell_type": "markdown",
   "id": "65a85100",
   "metadata": {},
   "source": [
    "### Splitting data into training and test sets"
   ]
  },
  {
   "cell_type": "code",
   "execution_count": 5,
   "id": "8df31f8a",
   "metadata": {},
   "outputs": [
    {
     "data": {
      "text/plain": [
       "(40, 40, 10, 10)"
      ]
     },
     "execution_count": 5,
     "metadata": {},
     "output_type": "execute_result"
    }
   ],
   "source": [
    "train_split = int(0.8 * len(X))\n",
    "X_train, y_train = X[:train_split], y[:train_split]\n",
    "X_test, y_test = X[train_split:], y[train_split:]\n",
    "\n",
    "len(X_train), len(y_train), len(X_test), len(y_test)"
   ]
  },
  {
   "cell_type": "code",
   "execution_count": 6,
   "id": "5aab170f",
   "metadata": {},
   "outputs": [],
   "source": [
    "# Visualizing function\n",
    "def plot_predictions(train_data = X_train, \n",
    "                     train_labels = y_train,\n",
    "                     test_data = X_test,\n",
    "                     test_labels = y_test,\n",
    "                     predictions = None):\n",
    "    \n",
    "    plt.figure(figsize = (10, 7))\n",
    "    \n",
    "    plt.scatter(train_data, train_labels, c = 'b', s = 4, label = 'Training data')\n",
    "    plt.scatter(test_data, test_labels, c = 'g', s = 4, label = 'Testing data')\n",
    "    \n",
    "    if predictions is not None:\n",
    "        plt.scatter(test_data, predictions, c = 'r', s = 4, label = 'Predictions')\n",
    "    \n",
    "    plt.legend(prop = {'size': 14})"
   ]
  },
  {
   "cell_type": "code",
   "execution_count": 7,
   "id": "2ff52de5",
   "metadata": {},
   "outputs": [
    {
     "data": {
      "image/png": "[encoded data removed]",
      "text/plain": [
       "<Figure size 1000x700 with 1 Axes>"
      ]
     },
     "metadata": {},
     "output_type": "display_data"
    }
   ],
   "source": [
    "plot_predictions()"
   ]
  },
  {
   "cell_type": "markdown",
   "id": "d1298398",
   "metadata": {},
   "source": [
    "What our model does:\n",
    "* Start with random values (weight & bias)\n",
    "* Look at training data and adjust the random values to better represent(or get closer to) the ideal values (the weight & bias values we used to create the data)   \n",
    "\n",
    "Through two main algorithms:\n",
    "1. Gradient descent\n",
    "2. Backpropagation"
   ]
  },
  {
   "cell_type": "markdown",
   "id": "f795741e",
   "metadata": {},
   "source": [
    "### Pytorch model building essentials\n",
    "Subclass `nn.Module` : this contains all the building blocks for neural networks.    \n",
    "**Initialize model parameters** to be used in various computations. (these could be different layers from `torch.nn`, single parameters, hard-coded values or functions.)    \n",
    "`requires_grad=True` means Pytorch will track the gradients of this specific parameter for use with `torch.autograd` and gradient descent.    \n",
    "**Any subclass of nn.Module needs to override `forward()`**: this defines the forward computation of the model."
   ]
  },
  {
   "cell_type": "code",
   "execution_count": 12,
   "id": "b1ae63e4",
   "metadata": {},
   "outputs": [],
   "source": [
    "class LinearRegressionModel(nn.Module):\n",
    "    def __init__(self):\n",
    "        super().__init__()\n",
    "        self.weights = nn.Parameter(torch.randn(1,\n",
    "                                                requires_grad = True,    # Can this parameter be updated via gradient descent?\n",
    "                                                dtype = torch.float))\n",
    "        self.bias = nn.Parameter(torch.randn(1,\n",
    "                                             requires_grad = True,\n",
    "                                             dtype = torch.float))\n",
    "    def forward(self, x: torch.Tensor) -> torch.Tensor:\n",
    "        return self.weights * x + self.bias    # This is the regression formula"
   ]
  },
  {
   "cell_type": "markdown",
   "id": "c4a6d7ee",
   "metadata": {},
   "source": [
    "* `torch.nn`: contains all of the buildings for computational graphs (a neural network can be considered a computational graph)\n",
    "* `torch.nn.Module`: The base class for all neural network modules, if you subclass it, you should overwrite forward()\n",
    "* `torch.nn.Parameter`: what parameters should our model try and learn, often a pytorch layer from torch.nn will set these for us\n",
    "* `torch.optim`: contains various optimization algorithms. these tell the model parameters stored in `nn.Parameter` how to best change to improve gradient descent and in turn reduce the loss.\n",
    "* `torch. utils.data.Dataset`: represents a map between key(label) and sample(features) pairs of your data.\n",
    "* `torch. utils.data.DataLoader`: creates a Python iterable over a torch Dataset\n",
    "* def forward() : All nn.Module suclasses require you to overwite forward(), this method defines what happens in the forward computation."
   ]
  },
  {
   "cell_type": "code",
   "execution_count": 16,
   "id": "accb5e36",
   "metadata": {},
   "outputs": [
    {
     "name": "stdout",
     "output_type": "stream",
     "text": [
      "<generator object Module.parameters at 0x0000020CC5D486D0>\n",
      "[Parameter containing:\n",
      "tensor([0.2345], requires_grad=True), Parameter containing:\n",
      "tensor([0.2303], requires_grad=True)]\n"
     ]
    }
   ],
   "source": [
    "# Create a random seed: LinearRegressionModel class를 호출하면서 초기화되는 파라미터들을 고정함\n",
    "# torch.manual_seed(42)\n",
    "\n",
    "# Create an instance of the model (this is a subclass of nn.Module)\n",
    "model_0 = LinearRegressionModel()\n",
    "\n",
    "# Check out the parameters\n",
    "print(model_0.parameters())\n",
    "print(list(model_0.parameters()))"
   ]
  },
  {
   "cell_type": "code",
   "execution_count": 17,
   "id": "2292764b",
   "metadata": {},
   "outputs": [
    {
     "data": {
      "text/plain": [
       "OrderedDict([('weights', tensor([0.2345])), ('bias', tensor([0.2303]))])"
      ]
     },
     "execution_count": 17,
     "metadata": {},
     "output_type": "execute_result"
    }
   ],
   "source": [
    "# List named parameters\n",
    "model_0.state_dict()"
   ]
  },
  {
   "cell_type": "markdown",
   "id": "6478b151",
   "metadata": {},
   "source": [
    "### Making prediction using `torch.inference_mode()`"
   ]
  },
  {
   "cell_type": "code",
   "execution_count": 18,
   "id": "f1804096",
   "metadata": {},
   "outputs": [],
   "source": [
    "# Making prediction using `torch.inference_mode()`: 모델을 업데이트하는 기능(ex.gradient tracking)을 모두 끔. 메모리에 저장되지 않음\n",
    "with torch.inference_mode():\n",
    "    y_preds = model_0(X_test)\n",
    "    \n",
    "# Similar with torch.no_grad(). but torch.inference_mode() is preferred\n",
    "# with torch.no_grad():\n",
    "#     y_preds = model_0(X_test)"
   ]
  },
  {
   "cell_type": "code",
   "execution_count": 21,
   "id": "8202f51b",
   "metadata": {},
   "outputs": [
    {
     "data": {
      "text/plain": [
       "tensor([[0.4179],\n",
       "        [0.4226],\n",
       "        [0.4273],\n",
       "        [0.4320],\n",
       "        [0.4367],\n",
       "        [0.4413],\n",
       "        [0.4460],\n",
       "        [0.4507],\n",
       "        [0.4554],\n",
       "        [0.4601]])"
      ]
     },
     "execution_count": 21,
     "metadata": {},
     "output_type": "execute_result"
    }
   ],
   "source": [
    "y_preds    # no_grad"
   ]
  },
  {
   "cell_type": "code",
   "execution_count": 22,
   "id": "93378750",
   "metadata": {},
   "outputs": [
    {
     "data": {
      "text/plain": [
       "tensor([[0.4179],\n",
       "        [0.4226],\n",
       "        [0.4273],\n",
       "        [0.4320],\n",
       "        [0.4367],\n",
       "        [0.4413],\n",
       "        [0.4460],\n",
       "        [0.4507],\n",
       "        [0.4554],\n",
       "        [0.4601]], grad_fn=<AddBackward0>)"
      ]
     },
     "execution_count": 22,
     "metadata": {},
     "output_type": "execute_result"
    }
   ],
   "source": [
    "model_0(X_test)    # grad"
   ]
  },
  {
   "cell_type": "code",
   "execution_count": 20,
   "id": "0685b0a7",
   "metadata": {},
   "outputs": [
    {
     "data": {
      "image/png": "[encoded data removed]",
      "text/plain": [
       "<Figure size 1000x700 with 1 Axes>"
      ]
     },
     "metadata": {},
     "output_type": "display_data"
    }
   ],
   "source": [
    "plot_predictions(predictions=y_preds)"
   ]
  },
  {
   "cell_type": "markdown",
   "id": "f3120f28",
   "metadata": {},
   "source": [
    "### Train model\n",
    "\n",
    "* **Loss function**: A function to measure how wrong your model's predictions are to the ideal outputs, lower is better.\n",
    "* **Optimizer**: Takes into account the loss of a model and adjusts the model's parameters to improve the loss function.    \n",
    "specifically for Pytorch, we need:\n",
    "* A training loop\n",
    "* A testing loop"
   ]
  },
  {
   "cell_type": "markdown",
   "id": "c684819e",
   "metadata": {},
   "source": [
    "### Building a training loop (and a testing loop) in pytorch\n",
    "\n",
    "A couple of things we need is a training loop:    \n",
    "1. Loop through the data and do..\n",
    "2. Forward pass (this involves data moving through our model's `forward()` functions) to make predictions on data - also called forward propagation\n",
    "3. Calculate the loss (compare forward pass predictions to ground truth labels)\n",
    "4. Optimizer zero grad\n",
    "5. Loss backward - move backwards through the network to calculate the gradients of each of the parameters of our model with respect to the loss (**backpropagation**)\n",
    "6. Optimizer step - use the optimizer to adjust our model's parameters to try and improve the loss(**gradient loss**)"
   ]
  },
  {
   "cell_type": "code",
   "execution_count": 26,
   "id": "ded3caac",
   "metadata": {},
   "outputs": [],
   "source": [
    "loss_fn = nn.L1Loss()\n",
    "optimizer = torch.optim.SGD(params = model_0.parameters(),    # we want to optimize the parameters present in our model\n",
    "                            lr = 0.01)"
   ]
  },
  {
   "cell_type": "code",
   "execution_count": 35,
   "id": "094b07c4",
   "metadata": {},
   "outputs": [
    {
     "name": "stdout",
     "output_type": "stream",
     "text": [
      "tensor(0.2051, grad_fn=<MeanBackward0>)\n",
      "tensor(0.1936, grad_fn=<MeanBackward0>)\n",
      "tensor(0.1821, grad_fn=<MeanBackward0>)\n",
      "tensor(0.1706, grad_fn=<MeanBackward0>)\n",
      "tensor(0.1601, grad_fn=<MeanBackward0>)\n",
      "tensor(0.1506, grad_fn=<MeanBackward0>)\n",
      "tensor(0.1419, grad_fn=<MeanBackward0>)\n",
      "tensor(0.1341, grad_fn=<MeanBackward0>)\n",
      "tensor(0.1271, grad_fn=<MeanBackward0>)\n",
      "tensor(0.1208, grad_fn=<MeanBackward0>)\n"
     ]
    }
   ],
   "source": [
    "# An epoch is one loop through the data (this is a hyperparameter because we've set it ourselves)\n",
    "epochs = 10\n",
    "\n",
    "# 0. Loop through the data\n",
    "for epoch in range(epochs):\n",
    "    # Set the model to training mode\n",
    "    model_0.train()    # train mode in pytorch sets all parameters to require gradients\n",
    "    \n",
    "    # 1. Forward pass\n",
    "    y_pred = model_0(X_train)\n",
    "    \n",
    "    # 2. Calculate the loss\n",
    "    loss = loss_fn(y_pred, y_train)\n",
    "    print(loss)\n",
    "    \n",
    "    # 3. Optimizer zero grad (by default how the optimizer changes will accumulate)\n",
    "    optimizer.zero_grad()\n",
    "    \n",
    "    # 4. Perform backpropagation on the loss with respect to the parameters of the model\n",
    "    loss.backward()\n",
    "    \n",
    "    # 5. Step the optimizer to update the model's parameters with respect to the gradients calcultaed by loss.backward()\n",
    "    optimizer.step()    \n",
    "    \n",
    "    model_0.eval()    # turns off gradient tracking"
   ]
  },
  {
   "cell_type": "code",
   "execution_count": 28,
   "id": "3685090e",
   "metadata": {},
   "outputs": [
    {
     "data": {
      "text/plain": [
       "OrderedDict([('weights', tensor([0.2384])), ('bias', tensor([0.2403]))])"
      ]
     },
     "execution_count": 28,
     "metadata": {},
     "output_type": "execute_result"
    }
   ],
   "source": [
    "model_0.state_dict()"
   ]
  },
  {
   "cell_type": "code",
   "execution_count": 30,
   "id": "add59f9d",
   "metadata": {},
   "outputs": [
    {
     "data": {
      "text/plain": [
       "OrderedDict([('weights', tensor([0.2423])), ('bias', tensor([0.2503]))])"
      ]
     },
     "execution_count": 30,
     "metadata": {},
     "output_type": "execute_result"
    }
   ],
   "source": [
    "model_0.state_dict()"
   ]
  },
  {
   "cell_type": "code",
   "execution_count": 32,
   "id": "03de446e",
   "metadata": {},
   "outputs": [
    {
     "data": {
      "text/plain": [
       "OrderedDict([('weights', tensor([0.2462])), ('bias', tensor([0.2603]))])"
      ]
     },
     "execution_count": 32,
     "metadata": {},
     "output_type": "execute_result"
    }
   ],
   "source": [
    "model_0.state_dict()"
   ]
  },
  {
   "cell_type": "code",
   "execution_count": 34,
   "id": "15e25926",
   "metadata": {},
   "outputs": [
    {
     "data": {
      "text/plain": [
       "OrderedDict([('weights', tensor([0.2501])), ('bias', tensor([0.2703]))])"
      ]
     },
     "execution_count": 34,
     "metadata": {},
     "output_type": "execute_result"
    }
   ],
   "source": [
    "model_0.state_dict()"
   ]
  },
  {
   "cell_type": "code",
   "execution_count": 36,
   "id": "b1a266d1",
   "metadata": {},
   "outputs": [],
   "source": [
    "with torch.inference_mode():\n",
    "    y_preds_new = model_0(X_test)"
   ]
  },
  {
   "cell_type": "code",
   "execution_count": 37,
   "id": "cb9a17ba",
   "metadata": {},
   "outputs": [
    {
     "data": {
      "image/png": "[encoded data removed]",
      "text/plain": [
       "<Figure size 1000x700 with 1 Axes>"
      ]
     },
     "metadata": {},
     "output_type": "display_data"
    }
   ],
   "source": [
    "plot_predictions(predictions=y_preds_new)"
   ]
  },
  {
   "cell_type": "code",
   "execution_count": null,
   "id": "f3c8c7e9",
   "metadata": {},
   "outputs": [],
   "source": []
  }
 ],
 "metadata": {
  "kernelspec": {
   "display_name": "Python 3 (ipykernel)",
   "language": "python",
   "name": "python3"
  },
  "language_info": {
   "codemirror_mode": {
    "name": "ipython",
    "version": 3
   },
   "file_extension": ".py",
   "mimetype": "text/x-python",
   "name": "python",
   "nbconvert_exporter": "python",
   "pygments_lexer": "ipython3",
   "version": "3.10.11"
  }
 },
 "nbformat": 4,
 "nbformat_minor": 5
}
