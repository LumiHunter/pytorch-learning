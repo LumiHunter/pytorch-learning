{
 "cells": [
  {
   "cell_type": "code",
   "execution_count": 1,
   "metadata": {
    "colab": {
     "base_uri": "https://localhost:8080/"
    },
    "executionInfo": {
     "elapsed": 4179,
     "status": "ok",
     "timestamp": 1727077817089,
     "user": {
      "displayName": "황지은",
      "userId": "00972427378770874224"
     },
     "user_tz": -540
    },
    "id": "jsJ3DCHa2px_",
    "outputId": "30357a16-a094-4681-f123-a0bfd9331b3e"
   },
   "outputs": [
    {
     "name": "stdout",
     "output_type": "stream",
     "text": [
      "2.0.1+cu118\n"
     ]
    }
   ],
   "source": [
    "import torch\n",
    "print(torch.__version__)"
   ]
  },
  {
   "cell_type": "markdown",
   "metadata": {
    "id": "O2RTcKZ13FfS"
   },
   "source": [
    "# Introduction to Tensors\n",
    "## Creating tensors\n",
    "Pytorch tensors are created using `torch.Tensor()`"
   ]
  },
  {
   "cell_type": "code",
   "execution_count": null,
   "metadata": {
    "colab": {
     "base_uri": "https://localhost:8080/"
    },
    "executionInfo": {
     "elapsed": 418,
     "status": "ok",
     "timestamp": 1727077921981,
     "user": {
      "displayName": "황지은",
      "userId": "00972427378770874224"
     },
     "user_tz": -540
    },
    "id": "xap2U3U62xvF",
    "outputId": "73965ebc-4d62-4951-c1c5-eb884593dd29"
   },
   "outputs": [
    {
     "data": {
      "text/plain": [
       "tensor(7)"
      ]
     },
     "execution_count": 2,
     "metadata": {},
     "output_type": "execute_result"
    }
   ],
   "source": [
    "scalar = torch.tensor(7)\n",
    "scalar"
   ]
  },
  {
   "cell_type": "code",
   "execution_count": null,
   "metadata": {
    "colab": {
     "base_uri": "https://localhost:8080/"
    },
    "executionInfo": {
     "elapsed": 434,
     "status": "ok",
     "timestamp": 1727078076845,
     "user": {
      "displayName": "황지은",
      "userId": "00972427378770874224"
     },
     "user_tz": -540
    },
    "id": "JuNLhBCF3a8-",
    "outputId": "3145f289-4c04-4703-effc-ac7864e59d28"
   },
   "outputs": [
    {
     "data": {
      "text/plain": [
       "0"
      ]
     },
     "execution_count": 3,
     "metadata": {},
     "output_type": "execute_result"
    }
   ],
   "source": [
    "scalar.ndim   # Scalar has no dimension"
   ]
  },
  {
   "cell_type": "code",
   "execution_count": null,
   "metadata": {
    "colab": {
     "base_uri": "https://localhost:8080/"
    },
    "executionInfo": {
     "elapsed": 425,
     "status": "ok",
     "timestamp": 1727078096403,
     "user": {
      "displayName": "황지은",
      "userId": "00972427378770874224"
     },
     "user_tz": -540
    },
    "id": "c2PapXRV4A1D",
    "outputId": "ec233228-8e90-4ff9-979e-cdcac3dcffd5"
   },
   "outputs": [
    {
     "data": {
      "text/plain": [
       "7"
      ]
     },
     "execution_count": 4,
     "metadata": {},
     "output_type": "execute_result"
    }
   ],
   "source": [
    "scalar.item()   # Get tensor back as Python int -> a tensor with 2 or more elements cannot be converted to Scalar"
   ]
  },
  {
   "cell_type": "code",
   "execution_count": null,
   "metadata": {
    "colab": {
     "base_uri": "https://localhost:8080/"
    },
    "executionInfo": {
     "elapsed": 447,
     "status": "ok",
     "timestamp": 1727078741853,
     "user": {
      "displayName": "황지은",
      "userId": "00972427378770874224"
     },
     "user_tz": -540
    },
    "id": "AA9hRKs66g3Q",
    "outputId": "e3fe849c-d742-4c9b-e12b-50ba5c6fb586"
   },
   "outputs": [
    {
     "data": {
      "text/plain": [
       "torch.Size([])"
      ]
     },
     "execution_count": 7,
     "metadata": {},
     "output_type": "execute_result"
    }
   ],
   "source": [
    "scalar.shape"
   ]
  },
  {
   "cell_type": "markdown",
   "metadata": {
    "id": "cak9OtmZ6tVj"
   },
   "source": [
    "----"
   ]
  },
  {
   "cell_type": "code",
   "execution_count": null,
   "metadata": {
    "colab": {
     "base_uri": "https://localhost:8080/"
    },
    "executionInfo": {
     "elapsed": 449,
     "status": "ok",
     "timestamp": 1727078219553,
     "user": {
      "displayName": "황지은",
      "userId": "00972427378770874224"
     },
     "user_tz": -540
    },
    "id": "iE0tuwM24FmA",
    "outputId": "b75e3c3e-0edb-40c2-9d0c-fbb3c360489e"
   },
   "outputs": [
    {
     "data": {
      "text/plain": [
       "tensor([7, 7])"
      ]
     },
     "execution_count": 5,
     "metadata": {},
     "output_type": "execute_result"
    }
   ],
   "source": [
    "vector = torch.tensor([7, 7])\n",
    "vector"
   ]
  },
  {
   "cell_type": "code",
   "execution_count": null,
   "metadata": {
    "colab": {
     "base_uri": "https://localhost:8080/"
    },
    "executionInfo": {
     "elapsed": 427,
     "status": "ok",
     "timestamp": 1727078265938,
     "user": {
      "displayName": "황지은",
      "userId": "00972427378770874224"
     },
     "user_tz": -540
    },
    "id": "UO89INK84jl3",
    "outputId": "78a1395d-757c-489c-82ea-3bbf6c366f2b"
   },
   "outputs": [
    {
     "data": {
      "text/plain": [
       "1"
      ]
     },
     "execution_count": 6,
     "metadata": {},
     "output_type": "execute_result"
    }
   ],
   "source": [
    "vector.ndim   # Dimension is the number of square brackets"
   ]
  },
  {
   "cell_type": "code",
   "execution_count": null,
   "metadata": {
    "colab": {
     "base_uri": "https://localhost:8080/"
    },
    "executionInfo": {
     "elapsed": 418,
     "status": "ok",
     "timestamp": 1727078752468,
     "user": {
      "displayName": "황지은",
      "userId": "00972427378770874224"
     },
     "user_tz": -540
    },
    "id": "05hPnzU34u8t",
    "outputId": "2eeef01f-45e0-452d-b5af-147cadc91615"
   },
   "outputs": [
    {
     "data": {
      "text/plain": [
       "torch.Size([2])"
      ]
     },
     "execution_count": 8,
     "metadata": {},
     "output_type": "execute_result"
    }
   ],
   "source": [
    "vector.shape    # Shape is the number of elements of each square brackets"
   ]
  },
  {
   "cell_type": "markdown",
   "metadata": {
    "id": "71Vlp-Ym7O2C"
   },
   "source": [
    "---"
   ]
  },
  {
   "cell_type": "code",
   "execution_count": null,
   "metadata": {
    "colab": {
     "base_uri": "https://localhost:8080/"
    },
    "executionInfo": {
     "elapsed": 440,
     "status": "ok",
     "timestamp": 1727079013221,
     "user": {
      "displayName": "황지은",
      "userId": "00972427378770874224"
     },
     "user_tz": -540
    },
    "id": "wyyBnvSn7GTd",
    "outputId": "c180693e-3404-445f-880f-67034be3841a"
   },
   "outputs": [
    {
     "data": {
      "text/plain": [
       "tensor([[ 7,  8],\n",
       "        [ 9, 10]])"
      ]
     },
     "execution_count": 12,
     "metadata": {},
     "output_type": "execute_result"
    }
   ],
   "source": [
    "MATRIX = torch.tensor([[7, 8],\n",
    "                       [9, 10]])\n",
    "MATRIX"
   ]
  },
  {
   "cell_type": "code",
   "execution_count": null,
   "metadata": {
    "colab": {
     "base_uri": "https://localhost:8080/"
    },
    "executionInfo": {
     "elapsed": 407,
     "status": "ok",
     "timestamp": 1727079044425,
     "user": {
      "displayName": "황지은",
      "userId": "00972427378770874224"
     },
     "user_tz": -540
    },
    "id": "a7MNEbej7XQJ",
    "outputId": "5304a816-e5ab-4271-b9b9-3c011a1d9b14"
   },
   "outputs": [
    {
     "data": {
      "text/plain": [
       "2"
      ]
     },
     "execution_count": 13,
     "metadata": {},
     "output_type": "execute_result"
    }
   ],
   "source": [
    "MATRIX.ndim"
   ]
  },
  {
   "cell_type": "code",
   "execution_count": null,
   "metadata": {
    "colab": {
     "base_uri": "https://localhost:8080/"
    },
    "executionInfo": {
     "elapsed": 2,
     "status": "ok",
     "timestamp": 1727079073826,
     "user": {
      "displayName": "황지은",
      "userId": "00972427378770874224"
     },
     "user_tz": -540
    },
    "id": "M7urOmd77tFB",
    "outputId": "6c0893d6-23b4-4828-8458-771ac2957111"
   },
   "outputs": [
    {
     "data": {
      "text/plain": [
       "torch.Size([2, 2])"
      ]
     },
     "execution_count": 14,
     "metadata": {},
     "output_type": "execute_result"
    }
   ],
   "source": [
    "MATRIX.shape"
   ]
  },
  {
   "cell_type": "markdown",
   "metadata": {
    "id": "sLXkfxqyBzz7"
   },
   "source": [
    "----"
   ]
  },
  {
   "cell_type": "code",
   "execution_count": null,
   "metadata": {
    "colab": {
     "base_uri": "https://localhost:8080/"
    },
    "executionInfo": {
     "elapsed": 475,
     "status": "ok",
     "timestamp": 1727080714286,
     "user": {
      "displayName": "황지은",
      "userId": "00972427378770874224"
     },
     "user_tz": -540
    },
    "id": "zjn-7fuvBzUZ",
    "outputId": "06c976ca-555e-407c-b7a6-80b62b6f3d4d"
   },
   "outputs": [
    {
     "data": {
      "text/plain": [
       "tensor([[[1, 2, 3],\n",
       "         [3, 6, 9],\n",
       "         [2, 4, 6]]])"
      ]
     },
     "execution_count": 15,
     "metadata": {},
     "output_type": "execute_result"
    }
   ],
   "source": [
    "TENSOR = torch.tensor([[[1,2,3],\n",
    "                        [3,6,9],\n",
    "                        [2,4,6]]])\n",
    "TENSOR"
   ]
  },
  {
   "cell_type": "code",
   "execution_count": null,
   "metadata": {
    "colab": {
     "base_uri": "https://localhost:8080/"
    },
    "executionInfo": {
     "elapsed": 4,
     "status": "ok",
     "timestamp": 1727080730994,
     "user": {
      "displayName": "황지은",
      "userId": "00972427378770874224"
     },
     "user_tz": -540
    },
    "id": "QjFA4fO070I1",
    "outputId": "0730cbbf-5274-4945-98dd-a2a4c1f591c9"
   },
   "outputs": [
    {
     "data": {
      "text/plain": [
       "3"
      ]
     },
     "execution_count": 16,
     "metadata": {},
     "output_type": "execute_result"
    }
   ],
   "source": [
    "TENSOR.ndim"
   ]
  },
  {
   "cell_type": "code",
   "execution_count": null,
   "metadata": {
    "colab": {
     "base_uri": "https://localhost:8080/"
    },
    "executionInfo": {
     "elapsed": 435,
     "status": "ok",
     "timestamp": 1727080742232,
     "user": {
      "displayName": "황지은",
      "userId": "00972427378770874224"
     },
     "user_tz": -540
    },
    "id": "_FxQ6EskCI7X",
    "outputId": "e3e76680-f433-42ba-a14f-49f630537486"
   },
   "outputs": [
    {
     "data": {
      "text/plain": [
       "torch.Size([1, 3, 3])"
      ]
     },
     "execution_count": 17,
     "metadata": {},
     "output_type": "execute_result"
    }
   ],
   "source": [
    "TENSOR.shape   # shape는 각각의 bracket(dimansion) 안에 몇  개의 요소가 있느냐로 정의된다."
   ]
  },
  {
   "cell_type": "markdown",
   "metadata": {
    "id": "JLTRRpoaD2Ki"
   },
   "source": [
    "## Random tensors\n",
    "Why randon tensors?\n",
    "\n",
    "Random tensors are important because the way many neural networks learn is that they start with tensors full of random numbers and then adjust those random numbers to better represent the data.\n",
    "\n",
    "`Start with random numbers -> look at data -> update random numbers -> look at data -> update random numbers.....`"
   ]
  },
  {
   "cell_type": "code",
   "execution_count": 18,
   "metadata": {
    "colab": {
     "base_uri": "https://localhost:8080/"
    },
    "executionInfo": {
     "elapsed": 405,
     "status": "ok",
     "timestamp": 1727082643988,
     "user": {
      "displayName": "황지은",
      "userId": "00972427378770874224"
     },
     "user_tz": -540
    },
    "id": "s1T-XSX-CLYV",
    "outputId": "4d9a7b44-2a21-4371-c547-f531d4d3bcb5"
   },
   "outputs": [
    {
     "data": {
      "text/plain": [
       "tensor([[0.9239, 0.8270, 0.8382, 0.9021],\n",
       "        [0.6410, 0.0402, 0.2870, 0.7511],\n",
       "        [0.5030, 0.1987, 0.4213, 0.1465]])"
      ]
     },
     "execution_count": 18,
     "metadata": {},
     "output_type": "execute_result"
    }
   ],
   "source": [
    "# Create a random tensor of size (3,4)\n",
    "random_tensor = torch.rand(3,4)\n",
    "random_tensor"
   ]
  },
  {
   "cell_type": "code",
   "execution_count": 19,
   "metadata": {
    "colab": {
     "base_uri": "https://localhost:8080/"
    },
    "executionInfo": {
     "elapsed": 395,
     "status": "ok",
     "timestamp": 1727083229955,
     "user": {
      "displayName": "황지은",
      "userId": "00972427378770874224"
     },
     "user_tz": -540
    },
    "id": "wREyMeggJb5o",
    "outputId": "2765330f-ad20-479c-8708-4919f311374a"
   },
   "outputs": [
    {
     "data": {
      "text/plain": [
       "tensor([[[0.2734, 0.6411, 0.2488],\n",
       "         [0.3042, 0.5214, 0.0932],\n",
       "         [0.1402, 0.7596, 0.8776],\n",
       "         ...,\n",
       "         [0.9687, 0.9930, 0.9465],\n",
       "         [0.3415, 0.1802, 0.4043],\n",
       "         [0.0922, 0.7895, 0.6741]],\n",
       "\n",
       "        [[0.4537, 0.9216, 0.4287],\n",
       "         [0.5871, 0.0140, 0.9600],\n",
       "         [0.9035, 0.1358, 0.3490],\n",
       "         ...,\n",
       "         [0.4037, 0.2168, 0.7714],\n",
       "         [0.9161, 0.7621, 0.1923],\n",
       "         [0.5744, 0.4938, 0.8375]],\n",
       "\n",
       "        [[0.6901, 0.0456, 0.2671],\n",
       "         [0.5916, 0.7978, 0.4498],\n",
       "         [0.6890, 0.6285, 0.5999],\n",
       "         ...,\n",
       "         [0.8962, 0.4292, 0.2707],\n",
       "         [0.7291, 0.5566, 0.2399],\n",
       "         [0.6425, 0.8989, 0.8522]],\n",
       "\n",
       "        ...,\n",
       "\n",
       "        [[0.3506, 0.5755, 0.1447],\n",
       "         [0.0892, 0.6163, 0.1877],\n",
       "         [0.0925, 0.2451, 0.2783],\n",
       "         ...,\n",
       "         [0.7998, 0.4753, 0.6599],\n",
       "         [0.1732, 0.5179, 0.2584],\n",
       "         [0.1360, 0.9894, 0.4928]],\n",
       "\n",
       "        [[0.0115, 0.4743, 0.8847],\n",
       "         [0.1920, 0.0755, 0.4784],\n",
       "         [0.4124, 0.1618, 0.6663],\n",
       "         ...,\n",
       "         [0.4267, 0.3676, 0.1758],\n",
       "         [0.4599, 0.1571, 0.2720],\n",
       "         [0.6590, 0.8686, 0.2133]],\n",
       "\n",
       "        [[0.7009, 0.2512, 0.0943],\n",
       "         [0.5252, 0.9674, 0.1729],\n",
       "         [0.6291, 0.5984, 0.3145],\n",
       "         ...,\n",
       "         [0.0524, 0.7001, 0.9246],\n",
       "         [0.9848, 0.1318, 0.7197],\n",
       "         [0.3989, 0.8861, 0.0051]]])"
      ]
     },
     "execution_count": 19,
     "metadata": {},
     "output_type": "execute_result"
    }
   ],
   "source": [
    "# Create a random tensor with similar shape to an image tensor\n",
    "random_image_size_tensor = torch.rand(224,224,3)    # height, width, channel\n",
    "random_image_size_tensor"
   ]
  },
  {
   "cell_type": "code",
   "execution_count": null,
   "metadata": {
    "id": "L19YAghxLq9m"
   },
   "outputs": [],
   "source": []
  }
 ],
 "metadata": {
  "accelerator": "GPU",
  "colab": {
   "authorship_tag": "ABX9TyNL8q+fStOeu1CuhiqEcK1C",
   "gpuType": "T4",
   "provenance": []
  },
  "kernelspec": {
   "display_name": "Python 3 (ipykernel)",
   "language": "python",
   "name": "python3"
  },
  "language_info": {
   "codemirror_mode": {
    "name": "ipython",
    "version": 3
   },
   "file_extension": ".py",
   "mimetype": "text/x-python",
   "name": "python",
   "nbconvert_exporter": "python",
   "pygments_lexer": "ipython3",
   "version": "3.10.11"
  }
 },
 "nbformat": 4,
 "nbformat_minor": 1
}
