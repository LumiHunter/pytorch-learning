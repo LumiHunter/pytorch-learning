{
 "cells": [
  {
   "cell_type": "code",
   "execution_count": 1,
   "id": "f9df97dc",
   "metadata": {},
   "outputs": [],
   "source": [
    "import torch"
   ]
  },
  {
   "cell_type": "markdown",
   "id": "4b70a32c",
   "metadata": {},
   "source": [
    "### Collocation Points"
   ]
  },
  {
   "cell_type": "code",
   "execution_count": 2,
   "id": "be128056",
   "metadata": {},
   "outputs": [],
   "source": [
    "def collocation_points(*args):\n",
    "    grids = torch.meshgrid(*args, indexing = 'ij')\n",
    "    coordinates = torch.stack(grids, dim = len(args)).reshape(-1, len(args))\n",
    "    return coordinates"
   ]
  },
  {
   "cell_type": "code",
   "execution_count": 3,
   "id": "b972503e",
   "metadata": {},
   "outputs": [],
   "source": [
    "# t, x만 존재 -> 1차원\n",
    "nt = 3\n",
    "nx = 3\n",
    "t = torch.linspace(0, 1 , nt)    # 시간 단위 0~1까지\n",
    "x = torch.linspace(-1, 1, nx)    # 공간 단위 -1~1까지"
   ]
  },
  {
   "cell_type": "code",
   "execution_count": 4,
   "id": "9df5bd67",
   "metadata": {},
   "outputs": [
    {
     "data": {
      "text/plain": [
       "tensor([0.0000, 0.5000, 1.0000])"
      ]
     },
     "execution_count": 4,
     "metadata": {},
     "output_type": "execute_result"
    }
   ],
   "source": [
    "t"
   ]
  },
  {
   "cell_type": "code",
   "execution_count": 5,
   "id": "1f92b6a8",
   "metadata": {},
   "outputs": [
    {
     "data": {
      "text/plain": [
       "tensor([-1.,  0.,  1.])"
      ]
     },
     "execution_count": 5,
     "metadata": {},
     "output_type": "execute_result"
    }
   ],
   "source": [
    "x"
   ]
  },
  {
   "cell_type": "code",
   "execution_count": 6,
   "id": "0f8229a5",
   "metadata": {},
   "outputs": [
    {
     "data": {
      "text/plain": [
       "tensor([[ 0.0000, -1.0000],\n",
       "        [ 0.0000,  0.0000],\n",
       "        [ 0.0000,  1.0000],\n",
       "        [ 0.5000, -1.0000],\n",
       "        [ 0.5000,  0.0000],\n",
       "        [ 0.5000,  1.0000],\n",
       "        [ 1.0000, -1.0000],\n",
       "        [ 1.0000,  0.0000],\n",
       "        [ 1.0000,  1.0000]])"
      ]
     },
     "execution_count": 6,
     "metadata": {},
     "output_type": "execute_result"
    }
   ],
   "source": [
    "cdata = collocation_points(t, x)\n",
    "cdata"
   ]
  },
  {
   "cell_type": "code",
   "execution_count": 7,
   "id": "31fb9691",
   "metadata": {},
   "outputs": [
    {
     "data": {
      "text/plain": [
       "torch.Size([9, 2])"
      ]
     },
     "execution_count": 7,
     "metadata": {},
     "output_type": "execute_result"
    }
   ],
   "source": [
    "cdata.shape"
   ]
  },
  {
   "cell_type": "code",
   "execution_count": 10,
   "id": "49dcbc52",
   "metadata": {},
   "outputs": [
    {
     "name": "stdout",
     "output_type": "stream",
     "text": [
      "torch.Size([27, 3])\n",
      "tensor([[ 0.0000, -1.0000, -1.0000],\n",
      "        [ 0.0000, -1.0000,  0.0000],\n",
      "        [ 0.0000, -1.0000,  1.0000],\n",
      "        [ 0.0000,  0.0000, -1.0000],\n",
      "        [ 0.0000,  0.0000,  0.0000],\n",
      "        [ 0.0000,  0.0000,  1.0000],\n",
      "        [ 0.0000,  1.0000, -1.0000],\n",
      "        [ 0.0000,  1.0000,  0.0000],\n",
      "        [ 0.0000,  1.0000,  1.0000],\n",
      "        [ 0.5000, -1.0000, -1.0000],\n",
      "        [ 0.5000, -1.0000,  0.0000],\n",
      "        [ 0.5000, -1.0000,  1.0000],\n",
      "        [ 0.5000,  0.0000, -1.0000],\n",
      "        [ 0.5000,  0.0000,  0.0000],\n",
      "        [ 0.5000,  0.0000,  1.0000],\n",
      "        [ 0.5000,  1.0000, -1.0000],\n",
      "        [ 0.5000,  1.0000,  0.0000],\n",
      "        [ 0.5000,  1.0000,  1.0000],\n",
      "        [ 1.0000, -1.0000, -1.0000],\n",
      "        [ 1.0000, -1.0000,  0.0000],\n",
      "        [ 1.0000, -1.0000,  1.0000],\n",
      "        [ 1.0000,  0.0000, -1.0000],\n",
      "        [ 1.0000,  0.0000,  0.0000],\n",
      "        [ 1.0000,  0.0000,  1.0000],\n",
      "        [ 1.0000,  1.0000, -1.0000],\n",
      "        [ 1.0000,  1.0000,  0.0000],\n",
      "        [ 1.0000,  1.0000,  1.0000]])\n"
     ]
    }
   ],
   "source": [
    "ny = 3\n",
    "y = torch.linspace(-1, 1, ny)\n",
    "cdata = collocation_points(t, x, y)\n",
    "print(f'{cdata.shape}\\n{cdata}')"
   ]
  },
  {
   "cell_type": "markdown",
   "id": "30be14bf",
   "metadata": {},
   "source": [
    "### Initial Condition"
   ]
  },
  {
   "cell_type": "code",
   "execution_count": 12,
   "id": "ad2dd575",
   "metadata": {},
   "outputs": [],
   "source": [
    "u0 = torch.sin(x)    # 지배함수를 sin이라고 가정, 각각의 nx에서의 값\n",
    "inidata = collocation_points(t[0], x)    # initial -> t = 0"
   ]
  },
  {
   "cell_type": "code",
   "execution_count": 14,
   "id": "4bf0e84a",
   "metadata": {},
   "outputs": [
    {
     "data": {
      "text/plain": [
       "tensor([-0.8415,  0.0000,  0.8415])"
      ]
     },
     "execution_count": 14,
     "metadata": {},
     "output_type": "execute_result"
    }
   ],
   "source": [
    "u0"
   ]
  },
  {
   "cell_type": "code",
   "execution_count": 13,
   "id": "0dc54003",
   "metadata": {},
   "outputs": [
    {
     "data": {
      "text/plain": [
       "tensor([[ 0., -1.],\n",
       "        [ 0.,  0.],\n",
       "        [ 0.,  1.]])"
      ]
     },
     "execution_count": 13,
     "metadata": {},
     "output_type": "execute_result"
    }
   ],
   "source": [
    "inidata"
   ]
  },
  {
   "cell_type": "markdown",
   "id": "2cb9df3b",
   "metadata": {},
   "source": [
    "### Boundary Condition"
   ]
  },
  {
   "cell_type": "code",
   "execution_count": 16,
   "id": "8595293f",
   "metadata": {},
   "outputs": [
    {
     "data": {
      "text/plain": [
       "tensor([-1.,  1.])"
      ]
     },
     "execution_count": 16,
     "metadata": {},
     "output_type": "execute_result"
    }
   ],
   "source": [
    "xbg = torch.FloatTensor([x[0], x[-1]])\n",
    "xbg"
   ]
  },
  {
   "cell_type": "code",
   "execution_count": 17,
   "id": "ca6840f7",
   "metadata": {},
   "outputs": [],
   "source": [
    "bgdata = collocation_points(t, xbg)"
   ]
  },
  {
   "cell_type": "code",
   "execution_count": 18,
   "id": "82b673d1",
   "metadata": {},
   "outputs": [
    {
     "data": {
      "text/plain": [
       "tensor([[ 0.0000, -1.0000],\n",
       "        [ 0.0000,  1.0000],\n",
       "        [ 0.5000, -1.0000],\n",
       "        [ 0.5000,  1.0000],\n",
       "        [ 1.0000, -1.0000],\n",
       "        [ 1.0000,  1.0000]])"
      ]
     },
     "execution_count": 18,
     "metadata": {},
     "output_type": "execute_result"
    }
   ],
   "source": [
    "bgdata"
   ]
  },
  {
   "cell_type": "markdown",
   "id": "17feb73b",
   "metadata": {},
   "source": [
    "### Data Loader\n",
    ": 배치 트레이닝을 하기 위해, 데이터를 나눠서 주는 과정 -> Data Loader로 구현"
   ]
  },
  {
   "cell_type": "code",
   "execution_count": 19,
   "id": "42ea0e3f",
   "metadata": {},
   "outputs": [],
   "source": [
    "class TensorData(torch.utils.data.Dataset):\n",
    "    def __init__(self, cdata):\n",
    "        self.cdata = cdata\n",
    "        self.len = len(cdata)\n",
    "        \n",
    "    def __getitem__(self, index):\n",
    "        return self.cdata[index]\n",
    "    \n",
    "    def __len__(self):\n",
    "        return self.len"
   ]
  },
  {
   "cell_type": "code",
   "execution_count": null,
   "id": "ffc8d03d",
   "metadata": {},
   "outputs": [],
   "source": [
    "batch_size = 8\n",
    "trainloader = torch.utils.data.DataLoader(Ten)"
   ]
  }
 ],
 "metadata": {
  "kernelspec": {
   "display_name": "Python 3 (ipykernel)",
   "language": "python",
   "name": "python3"
  },
  "language_info": {
   "codemirror_mode": {
    "name": "ipython",
    "version": 3
   },
   "file_extension": ".py",
   "mimetype": "text/x-python",
   "name": "python",
   "nbconvert_exporter": "python",
   "pygments_lexer": "ipython3",
   "version": "3.10.11"
  }
 },
 "nbformat": 4,
 "nbformat_minor": 5
}
